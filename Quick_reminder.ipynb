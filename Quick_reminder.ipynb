{
 "cells": [
  {
   "cell_type": "markdown",
   "id": "24d058e0-f359-4608-9057-8b64b6cc6cd9",
   "metadata": {},
   "source": [
    "## Quick Reminder:"
   ]
  },
  {
   "cell_type": "code",
   "execution_count": 2,
   "id": "851430ff-6c8d-44f9-9775-594277ef5505",
   "metadata": {},
   "outputs": [
    {
     "data": {
      "text/html": [
       "<div>\n",
       "<style scoped>\n",
       "    .dataframe tbody tr th:only-of-type {\n",
       "        vertical-align: middle;\n",
       "    }\n",
       "\n",
       "    .dataframe tbody tr th {\n",
       "        vertical-align: top;\n",
       "    }\n",
       "\n",
       "    .dataframe thead th {\n",
       "        text-align: right;\n",
       "    }\n",
       "</style>\n",
       "<table border=\"1\" class=\"dataframe\">\n",
       "  <thead>\n",
       "    <tr style=\"text-align: right;\">\n",
       "      <th></th>\n",
       "      <th>first_name</th>\n",
       "      <th>last_name</th>\n",
       "      <th>age</th>\n",
       "      <th>occ</th>\n",
       "      <th>prog_lang</th>\n",
       "      <th>salary</th>\n",
       "    </tr>\n",
       "    <tr>\n",
       "      <th>email</th>\n",
       "      <th></th>\n",
       "      <th></th>\n",
       "      <th></th>\n",
       "      <th></th>\n",
       "      <th></th>\n",
       "      <th></th>\n",
       "    </tr>\n",
       "  </thead>\n",
       "  <tbody>\n",
       "    <tr>\n",
       "      <th>doejoh@gg.gf</th>\n",
       "      <td>John</td>\n",
       "      <td>Doe</td>\n",
       "      <td>32</td>\n",
       "      <td>Dev</td>\n",
       "      <td>Python</td>\n",
       "      <td>9000</td>\n",
       "    </tr>\n",
       "    <tr>\n",
       "      <th>valmar@aa.cc</th>\n",
       "      <td>Markus</td>\n",
       "      <td>Vasaletti</td>\n",
       "      <td>28</td>\n",
       "      <td>DB Admin</td>\n",
       "      <td>SQL</td>\n",
       "      <td>8000</td>\n",
       "    </tr>\n",
       "    <tr>\n",
       "      <th>thps2@gg.com</th>\n",
       "      <td>Tony</td>\n",
       "      <td>Hawk</td>\n",
       "      <td>49</td>\n",
       "      <td>Dev</td>\n",
       "      <td>Python</td>\n",
       "      <td>11000</td>\n",
       "    </tr>\n",
       "    <tr>\n",
       "      <th>hawkers@aa.bb</th>\n",
       "      <td>Howker</td>\n",
       "      <td>Mowner</td>\n",
       "      <td>39</td>\n",
       "      <td>Engineer</td>\n",
       "      <td>Java; Python</td>\n",
       "      <td>13000</td>\n",
       "    </tr>\n",
       "    <tr>\n",
       "      <th>ken@kk.og</th>\n",
       "      <td>Luke</td>\n",
       "      <td>McKen</td>\n",
       "      <td>17</td>\n",
       "      <td>Tester</td>\n",
       "      <td>C++</td>\n",
       "      <td>5000</td>\n",
       "    </tr>\n",
       "  </tbody>\n",
       "</table>\n",
       "</div>"
      ],
      "text/plain": [
       "              first_name  last_name  age       occ     prog_lang  salary\n",
       "email                                                                   \n",
       "doejoh@gg.gf        John        Doe   32       Dev        Python    9000\n",
       "valmar@aa.cc      Markus  Vasaletti   28  DB Admin           SQL    8000\n",
       "thps2@gg.com        Tony       Hawk   49       Dev        Python   11000\n",
       "hawkers@aa.bb     Howker     Mowner   39  Engineer  Java; Python   13000\n",
       "ken@kk.og           Luke      McKen   17    Tester           C++    5000"
      ]
     },
     "execution_count": 2,
     "metadata": {},
     "output_type": "execute_result"
    }
   ],
   "source": [
    "import pandas as pd\n",
    "\n",
    "data = {\n",
    "    'first_name': ['John', 'Markus', 'Tony', 'Howker', 'Luke'],\n",
    "    'last_name': ['Doe', 'Vasaletti', 'Hawk', 'Mowner', 'McKen'],\n",
    "    'age': [32, 28, 49, 39, 17],\n",
    "    'email': ['doejoh@gg.gf', 'valmar@aa.cc', 'thps2@gg.com', 'hawkers@aa.bb', 'ken@kk.og'],\n",
    "    'occ': ['Dev', 'DB Admin', 'Dev', 'Engineer', 'Tester'],\n",
    "    'prog_lang': ['Python', 'SQL', 'Python', 'Java; Python', 'C++'],\n",
    "    'salary': [9000, 8000, 11000, 13000, 5000]\n",
    "}\n",
    "\n",
    "df = pd.DataFrame(data)\n",
    "df.set_index('email', inplace=True)\n",
    "df"
   ]
  },
  {
   "cell_type": "code",
   "execution_count": 5,
   "id": "45d57a36-7d4a-474f-989f-474dd30199fb",
   "metadata": {},
   "outputs": [],
   "source": [
    "df.rename(columns={'first_name':'name', 'last_name': 'last'}, inplace=True)"
   ]
  },
  {
   "cell_type": "code",
   "execution_count": 20,
   "id": "b29b7903-e044-4244-a678-9fa8a1ed7c5a",
   "metadata": {},
   "outputs": [
    {
     "data": {
      "text/plain": [
       "Python          2\n",
       "C++             1\n",
       "SQL             1\n",
       "Java; Python    1\n",
       "Name: prog_lang, dtype: int64"
      ]
     },
     "execution_count": 20,
     "metadata": {},
     "output_type": "execute_result"
    }
   ],
   "source": [
    "df['prog_lang'].value_counts()"
   ]
  },
  {
   "cell_type": "code",
   "execution_count": 55,
   "id": "95547891-c8ce-4173-ba68-e90bd270ece8",
   "metadata": {},
   "outputs": [
    {
     "data": {
      "text/html": [
       "<div>\n",
       "<style scoped>\n",
       "    .dataframe tbody tr th:only-of-type {\n",
       "        vertical-align: middle;\n",
       "    }\n",
       "\n",
       "    .dataframe tbody tr th {\n",
       "        vertical-align: top;\n",
       "    }\n",
       "\n",
       "    .dataframe thead th {\n",
       "        text-align: right;\n",
       "    }\n",
       "</style>\n",
       "<table border=\"1\" class=\"dataframe\">\n",
       "  <thead>\n",
       "    <tr style=\"text-align: right;\">\n",
       "      <th></th>\n",
       "      <th>name</th>\n",
       "      <th>salary</th>\n",
       "      <th>age</th>\n",
       "    </tr>\n",
       "    <tr>\n",
       "      <th>email</th>\n",
       "      <th></th>\n",
       "      <th></th>\n",
       "      <th></th>\n",
       "    </tr>\n",
       "  </thead>\n",
       "  <tbody>\n",
       "    <tr>\n",
       "      <th>hawkers@aa.bb</th>\n",
       "      <td>Howker</td>\n",
       "      <td>13000</td>\n",
       "      <td>39</td>\n",
       "    </tr>\n",
       "    <tr>\n",
       "      <th>thps2@gg.com</th>\n",
       "      <td>Tony</td>\n",
       "      <td>11000</td>\n",
       "      <td>49</td>\n",
       "    </tr>\n",
       "    <tr>\n",
       "      <th>doejoh@gg.gf</th>\n",
       "      <td>John</td>\n",
       "      <td>9000</td>\n",
       "      <td>32</td>\n",
       "    </tr>\n",
       "    <tr>\n",
       "      <th>valmar@aa.cc</th>\n",
       "      <td>Markus</td>\n",
       "      <td>8000</td>\n",
       "      <td>28</td>\n",
       "    </tr>\n",
       "    <tr>\n",
       "      <th>ken@kk.og</th>\n",
       "      <td>Luke</td>\n",
       "      <td>5000</td>\n",
       "      <td>17</td>\n",
       "    </tr>\n",
       "  </tbody>\n",
       "</table>\n",
       "</div>"
      ],
      "text/plain": [
       "                 name  salary  age\n",
       "email                             \n",
       "hawkers@aa.bb  Howker   13000   39\n",
       "thps2@gg.com     Tony   11000   49\n",
       "doejoh@gg.gf     John    9000   32\n",
       "valmar@aa.cc   Markus    8000   28\n",
       "ken@kk.og        Luke    5000   17"
      ]
     },
     "execution_count": 55,
     "metadata": {},
     "output_type": "execute_result"
    }
   ],
   "source": [
    "df[['name', 'salary', 'age']].sort_values(by='salary', ascending=False)"
   ]
  },
  {
   "cell_type": "code",
   "execution_count": 56,
   "id": "85be9be9-31e2-4daf-aa1a-2e64ee0ed62c",
   "metadata": {},
   "outputs": [
    {
     "data": {
      "text/html": [
       "<div>\n",
       "<style scoped>\n",
       "    .dataframe tbody tr th:only-of-type {\n",
       "        vertical-align: middle;\n",
       "    }\n",
       "\n",
       "    .dataframe tbody tr th {\n",
       "        vertical-align: top;\n",
       "    }\n",
       "\n",
       "    .dataframe thead th {\n",
       "        text-align: right;\n",
       "    }\n",
       "</style>\n",
       "<table border=\"1\" class=\"dataframe\">\n",
       "  <thead>\n",
       "    <tr style=\"text-align: right;\">\n",
       "      <th></th>\n",
       "      <th>name</th>\n",
       "      <th>last</th>\n",
       "      <th>age</th>\n",
       "      <th>occ</th>\n",
       "      <th>prog_lang</th>\n",
       "      <th>salary</th>\n",
       "    </tr>\n",
       "    <tr>\n",
       "      <th>email</th>\n",
       "      <th></th>\n",
       "      <th></th>\n",
       "      <th></th>\n",
       "      <th></th>\n",
       "      <th></th>\n",
       "      <th></th>\n",
       "    </tr>\n",
       "  </thead>\n",
       "  <tbody>\n",
       "    <tr>\n",
       "      <th>doejoh@gg.gf</th>\n",
       "      <td>John</td>\n",
       "      <td>Doe</td>\n",
       "      <td>32</td>\n",
       "      <td>Dev</td>\n",
       "      <td>Python</td>\n",
       "      <td>9000</td>\n",
       "    </tr>\n",
       "    <tr>\n",
       "      <th>valmar@aa.cc</th>\n",
       "      <td>Markus</td>\n",
       "      <td>Vasaletti</td>\n",
       "      <td>28</td>\n",
       "      <td>DB Admin</td>\n",
       "      <td>SQL</td>\n",
       "      <td>8000</td>\n",
       "    </tr>\n",
       "    <tr>\n",
       "      <th>thps2@gg.com</th>\n",
       "      <td>Tony</td>\n",
       "      <td>Hawk</td>\n",
       "      <td>49</td>\n",
       "      <td>Dev</td>\n",
       "      <td>Python</td>\n",
       "      <td>11000</td>\n",
       "    </tr>\n",
       "    <tr>\n",
       "      <th>hawkers@aa.bb</th>\n",
       "      <td>Howker</td>\n",
       "      <td>Mowner</td>\n",
       "      <td>39</td>\n",
       "      <td>Engineer</td>\n",
       "      <td>Java; Python</td>\n",
       "      <td>13000</td>\n",
       "    </tr>\n",
       "    <tr>\n",
       "      <th>ken@kk.og</th>\n",
       "      <td>Luke</td>\n",
       "      <td>Doe</td>\n",
       "      <td>17</td>\n",
       "      <td>Tester</td>\n",
       "      <td>C++</td>\n",
       "      <td>5000</td>\n",
       "    </tr>\n",
       "  </tbody>\n",
       "</table>\n",
       "</div>"
      ],
      "text/plain": [
       "                 name       last  age       occ     prog_lang  salary\n",
       "email                                                                \n",
       "doejoh@gg.gf     John        Doe   32       Dev        Python    9000\n",
       "valmar@aa.cc   Markus  Vasaletti   28  DB Admin           SQL    8000\n",
       "thps2@gg.com     Tony       Hawk   49       Dev        Python   11000\n",
       "hawkers@aa.bb  Howker     Mowner   39  Engineer  Java; Python   13000\n",
       "ken@kk.og        Luke        Doe   17    Tester           C++    5000"
      ]
     },
     "execution_count": 56,
     "metadata": {},
     "output_type": "execute_result"
    }
   ],
   "source": [
    "df"
   ]
  },
  {
   "cell_type": "code",
   "execution_count": 57,
   "id": "286d1225-9260-46f7-8d3f-3804df463b20",
   "metadata": {},
   "outputs": [],
   "source": [
    "df['country'] = ['USA', 'Mongolia', 'USA', 'Poland', 'Canada']"
   ]
  },
  {
   "cell_type": "code",
   "execution_count": 74,
   "id": "9d6cb283-4593-457c-910b-5b14352c3150",
   "metadata": {},
   "outputs": [
    {
     "data": {
      "text/plain": [
       "USA    1.0\n",
       "Name: country, dtype: float64"
      ]
     },
     "execution_count": 74,
     "metadata": {},
     "output_type": "execute_result"
    }
   ],
   "source": [
    "#flt = df['prog_lang'].str.contains('Python')\n",
    "df.groupby('prog_lang').get_group('Python')['country'].value_counts(normalize=True)"
   ]
  },
  {
   "cell_type": "code",
   "execution_count": 87,
   "id": "84a781ac-21b8-4fda-84ba-39b4382e1aaa",
   "metadata": {},
   "outputs": [
    {
     "data": {
      "text/plain": [
       "USA         2\n",
       "Canada      1\n",
       "Mongolia    1\n",
       "Poland      1\n",
       "Name: country, dtype: int64"
      ]
     },
     "execution_count": 87,
     "metadata": {},
     "output_type": "execute_result"
    }
   ],
   "source": [
    "df['country'].value_counts()"
   ]
  },
  {
   "cell_type": "markdown",
   "id": "cd9baff8-5b81-4c3f-8937-4c7d10720d08",
   "metadata": {},
   "source": [
    "---\n",
    "### Dummy data 2:"
   ]
  },
  {
   "cell_type": "code",
   "execution_count": 1,
   "id": "3e8853b5-3144-4175-b5cf-94ae8fb2817e",
   "metadata": {},
   "outputs": [
    {
     "data": {
      "text/html": [
       "<div>\n",
       "<style scoped>\n",
       "    .dataframe tbody tr th:only-of-type {\n",
       "        vertical-align: middle;\n",
       "    }\n",
       "\n",
       "    .dataframe tbody tr th {\n",
       "        vertical-align: top;\n",
       "    }\n",
       "\n",
       "    .dataframe thead th {\n",
       "        text-align: right;\n",
       "    }\n",
       "</style>\n",
       "<table border=\"1\" class=\"dataframe\">\n",
       "  <thead>\n",
       "    <tr style=\"text-align: right;\">\n",
       "      <th></th>\n",
       "      <th>name</th>\n",
       "      <th>last_name</th>\n",
       "      <th>email</th>\n",
       "      <th>age</th>\n",
       "      <th>salary</th>\n",
       "      <th>sex</th>\n",
       "      <th>department</th>\n",
       "      <th>pos</th>\n",
       "    </tr>\n",
       "  </thead>\n",
       "  <tbody>\n",
       "    <tr>\n",
       "      <th>0</th>\n",
       "      <td>John</td>\n",
       "      <td>Doe</td>\n",
       "      <td>John@Doe.com</td>\n",
       "      <td>38</td>\n",
       "      <td>15000</td>\n",
       "      <td>Male</td>\n",
       "      <td>IT</td>\n",
       "      <td>Developer</td>\n",
       "    </tr>\n",
       "    <tr>\n",
       "      <th>1</th>\n",
       "      <td>Mike</td>\n",
       "      <td>Tyson</td>\n",
       "      <td>MikeTyson@gg.ca</td>\n",
       "      <td>42</td>\n",
       "      <td>22000</td>\n",
       "      <td>Male</td>\n",
       "      <td>Company</td>\n",
       "      <td>CEO</td>\n",
       "    </tr>\n",
       "    <tr>\n",
       "      <th>2</th>\n",
       "      <td>Trecy</td>\n",
       "      <td>Lena</td>\n",
       "      <td>TrecyLena@op.ff</td>\n",
       "      <td>27</td>\n",
       "      <td>7000</td>\n",
       "      <td>Female</td>\n",
       "      <td>HR</td>\n",
       "      <td>HR Secretary</td>\n",
       "    </tr>\n",
       "    <tr>\n",
       "      <th>3</th>\n",
       "      <td>Milena</td>\n",
       "      <td>Lena</td>\n",
       "      <td>MilenaLena@gg.com</td>\n",
       "      <td>25</td>\n",
       "      <td>6000</td>\n",
       "      <td>Female</td>\n",
       "      <td>HR</td>\n",
       "      <td>HR Accounting</td>\n",
       "    </tr>\n",
       "    <tr>\n",
       "      <th>4</th>\n",
       "      <td>Howard</td>\n",
       "      <td>Cramp</td>\n",
       "      <td>Howard@ee.xx</td>\n",
       "      <td>19</td>\n",
       "      <td>4500</td>\n",
       "      <td>Male</td>\n",
       "      <td>Delivery</td>\n",
       "      <td>DeliverMan</td>\n",
       "    </tr>\n",
       "    <tr>\n",
       "      <th>5</th>\n",
       "      <td>Lady</td>\n",
       "      <td>Black</td>\n",
       "      <td>blackwidow@eu.com</td>\n",
       "      <td>37</td>\n",
       "      <td>8000</td>\n",
       "      <td>Female</td>\n",
       "      <td>HR</td>\n",
       "      <td>HR Manager</td>\n",
       "    </tr>\n",
       "  </tbody>\n",
       "</table>\n",
       "</div>"
      ],
      "text/plain": [
       "     name last_name              email  age  salary     sex department  \\\n",
       "0    John       Doe       John@Doe.com   38   15000    Male         IT   \n",
       "1    Mike     Tyson    MikeTyson@gg.ca   42   22000    Male    Company   \n",
       "2   Trecy      Lena    TrecyLena@op.ff   27    7000  Female         HR   \n",
       "3  Milena      Lena  MilenaLena@gg.com   25    6000  Female         HR   \n",
       "4  Howard     Cramp       Howard@ee.xx   19    4500    Male   Delivery   \n",
       "5    Lady     Black  blackwidow@eu.com   37    8000  Female         HR   \n",
       "\n",
       "             pos  \n",
       "0      Developer  \n",
       "1            CEO  \n",
       "2   HR Secretary  \n",
       "3  HR Accounting  \n",
       "4     DeliverMan  \n",
       "5     HR Manager  "
      ]
     },
     "execution_count": 1,
     "metadata": {},
     "output_type": "execute_result"
    }
   ],
   "source": [
    "some_dat = {\n",
    "    'name': ['John', 'Mike', 'Trecy', 'Milena', 'Howard', 'Lady'],\n",
    "    'last_name': ['Doe', 'Tyson', 'Lena', 'Lena', 'Cramp', 'Black'],\n",
    "    'email': ['John@Doe.com', 'MikeTyson@gg.ca', 'TrecyLena@op.ff', 'MilenaLena@gg.com', 'Howard@ee.xx', 'blackwidow@eu.com'],\n",
    "    'age': [38, 42, 27, 25, 19, 37],\n",
    "    'salary': [15000, 22000, 7000, 6000, 4500, 8000],\n",
    "    'sex': ['Male', 'Male', 'Female', 'Female', 'Male', 'Female'],\n",
    "    'department': ['IT', 'Company', 'HR', 'HR', 'Delivery', 'HR'],\n",
    "    'pos': ['Developer', 'CEO', 'HR Secretary', 'HR Accounting', 'DeliverMan', 'HR Manager'],\n",
    "}\n",
    "\n",
    "import pandas as pd\n",
    "df = pd.DataFrame(some_dat)\n",
    "df"
   ]
  },
  {
   "cell_type": "code",
   "execution_count": 6,
   "id": "78e227fe-35e3-4e39-858f-eca9165d0abe",
   "metadata": {},
   "outputs": [
    {
     "data": {
      "text/plain": [
       "29.666666666666668"
      ]
     },
     "execution_count": 6,
     "metadata": {},
     "output_type": "execute_result"
    }
   ],
   "source": [
    "df.groupby('sex').get_group('Female')['age'].mean() # average women age"
   ]
  },
  {
   "cell_type": "code",
   "execution_count": 18,
   "id": "e6ca07fd-f283-46b9-be9d-ec8dc9a47c34",
   "metadata": {},
   "outputs": [
    {
     "data": {
      "text/html": [
       "<div>\n",
       "<style scoped>\n",
       "    .dataframe tbody tr th:only-of-type {\n",
       "        vertical-align: middle;\n",
       "    }\n",
       "\n",
       "    .dataframe tbody tr th {\n",
       "        vertical-align: top;\n",
       "    }\n",
       "\n",
       "    .dataframe thead th {\n",
       "        text-align: right;\n",
       "    }\n",
       "</style>\n",
       "<table border=\"1\" class=\"dataframe\">\n",
       "  <thead>\n",
       "    <tr style=\"text-align: right;\">\n",
       "      <th></th>\n",
       "      <th>name</th>\n",
       "      <th>last_name</th>\n",
       "      <th>email</th>\n",
       "      <th>age</th>\n",
       "      <th>salary</th>\n",
       "      <th>sex</th>\n",
       "      <th>department</th>\n",
       "      <th>pos</th>\n",
       "    </tr>\n",
       "  </thead>\n",
       "  <tbody>\n",
       "    <tr>\n",
       "      <th>1</th>\n",
       "      <td>Mike</td>\n",
       "      <td>Tyson</td>\n",
       "      <td>MikeTyson@gg.ca</td>\n",
       "      <td>42</td>\n",
       "      <td>22000</td>\n",
       "      <td>Male</td>\n",
       "      <td>Company</td>\n",
       "      <td>CEO</td>\n",
       "    </tr>\n",
       "  </tbody>\n",
       "</table>\n",
       "</div>"
      ],
      "text/plain": [
       "   name last_name            email  age  salary   sex department  pos\n",
       "1  Mike     Tyson  MikeTyson@gg.ca   42   22000  Male    Company  CEO"
      ]
     },
     "execution_count": 18,
     "metadata": {},
     "output_type": "execute_result"
    }
   ],
   "source": [
    "# ceo = df.pos == 'CEO' and df.loc[ceo] or\n",
    "df.loc[df.pos == 'CEO']"
   ]
  },
  {
   "cell_type": "code",
   "execution_count": 20,
   "id": "670cc033-ab33-4844-88a1-cfa49b3c9500",
   "metadata": {},
   "outputs": [
    {
     "data": {
      "text/html": [
       "<div>\n",
       "<style scoped>\n",
       "    .dataframe tbody tr th:only-of-type {\n",
       "        vertical-align: middle;\n",
       "    }\n",
       "\n",
       "    .dataframe tbody tr th {\n",
       "        vertical-align: top;\n",
       "    }\n",
       "\n",
       "    .dataframe thead th {\n",
       "        text-align: right;\n",
       "    }\n",
       "</style>\n",
       "<table border=\"1\" class=\"dataframe\">\n",
       "  <thead>\n",
       "    <tr style=\"text-align: right;\">\n",
       "      <th></th>\n",
       "      <th>name</th>\n",
       "      <th>last_name</th>\n",
       "      <th>email</th>\n",
       "      <th>age</th>\n",
       "      <th>salary</th>\n",
       "      <th>sex</th>\n",
       "      <th>department</th>\n",
       "      <th>pos</th>\n",
       "    </tr>\n",
       "  </thead>\n",
       "  <tbody>\n",
       "    <tr>\n",
       "      <th>2</th>\n",
       "      <td>Trecy</td>\n",
       "      <td>Lena</td>\n",
       "      <td>TrecyLena@op.ff</td>\n",
       "      <td>27</td>\n",
       "      <td>7000</td>\n",
       "      <td>Female</td>\n",
       "      <td>HR</td>\n",
       "      <td>HR Secretary</td>\n",
       "    </tr>\n",
       "    <tr>\n",
       "      <th>3</th>\n",
       "      <td>Milena</td>\n",
       "      <td>Lena</td>\n",
       "      <td>MilenaLena@gg.com</td>\n",
       "      <td>25</td>\n",
       "      <td>6000</td>\n",
       "      <td>Female</td>\n",
       "      <td>HR</td>\n",
       "      <td>HR Accounting</td>\n",
       "    </tr>\n",
       "    <tr>\n",
       "      <th>5</th>\n",
       "      <td>Lady</td>\n",
       "      <td>Black</td>\n",
       "      <td>blackwidow@eu.com</td>\n",
       "      <td>37</td>\n",
       "      <td>8000</td>\n",
       "      <td>Female</td>\n",
       "      <td>HR</td>\n",
       "      <td>HR Manager</td>\n",
       "    </tr>\n",
       "  </tbody>\n",
       "</table>\n",
       "</div>"
      ],
      "text/plain": [
       "     name last_name              email  age  salary     sex department  \\\n",
       "2   Trecy      Lena    TrecyLena@op.ff   27    7000  Female         HR   \n",
       "3  Milena      Lena  MilenaLena@gg.com   25    6000  Female         HR   \n",
       "5    Lady     Black  blackwidow@eu.com   37    8000  Female         HR   \n",
       "\n",
       "             pos  \n",
       "2   HR Secretary  \n",
       "3  HR Accounting  \n",
       "5     HR Manager  "
      ]
     },
     "execution_count": 20,
     "metadata": {},
     "output_type": "execute_result"
    }
   ],
   "source": [
    "flt = df.department == 'HR'\n",
    "df.loc[flt]"
   ]
  },
  {
   "cell_type": "code",
   "execution_count": 22,
   "id": "3ed0d292-ddc9-45b4-be4d-95bdc66287f7",
   "metadata": {},
   "outputs": [
    {
     "data": {
      "text/html": [
       "<div>\n",
       "<style scoped>\n",
       "    .dataframe tbody tr th:only-of-type {\n",
       "        vertical-align: middle;\n",
       "    }\n",
       "\n",
       "    .dataframe tbody tr th {\n",
       "        vertical-align: top;\n",
       "    }\n",
       "\n",
       "    .dataframe thead th {\n",
       "        text-align: right;\n",
       "    }\n",
       "</style>\n",
       "<table border=\"1\" class=\"dataframe\">\n",
       "  <thead>\n",
       "    <tr style=\"text-align: right;\">\n",
       "      <th></th>\n",
       "      <th>name</th>\n",
       "      <th>last_name</th>\n",
       "      <th>email</th>\n",
       "      <th>age</th>\n",
       "      <th>salary</th>\n",
       "      <th>sex</th>\n",
       "      <th>department</th>\n",
       "      <th>pos</th>\n",
       "    </tr>\n",
       "  </thead>\n",
       "  <tbody>\n",
       "    <tr>\n",
       "      <th>2</th>\n",
       "      <td>Trecy</td>\n",
       "      <td>Lena</td>\n",
       "      <td>TrecyLena@op.ff</td>\n",
       "      <td>27</td>\n",
       "      <td>7000</td>\n",
       "      <td>Female</td>\n",
       "      <td>HR</td>\n",
       "      <td>HR Secretary</td>\n",
       "    </tr>\n",
       "    <tr>\n",
       "      <th>3</th>\n",
       "      <td>Milena</td>\n",
       "      <td>Lena</td>\n",
       "      <td>MilenaLena@gg.com</td>\n",
       "      <td>25</td>\n",
       "      <td>6000</td>\n",
       "      <td>Female</td>\n",
       "      <td>HR</td>\n",
       "      <td>HR Accounting</td>\n",
       "    </tr>\n",
       "  </tbody>\n",
       "</table>\n",
       "</div>"
      ],
      "text/plain": [
       "     name last_name              email  age  salary     sex department  \\\n",
       "2   Trecy      Lena    TrecyLena@op.ff   27    7000  Female         HR   \n",
       "3  Milena      Lena  MilenaLena@gg.com   25    6000  Female         HR   \n",
       "\n",
       "             pos  \n",
       "2   HR Secretary  \n",
       "3  HR Accounting  "
      ]
     },
     "execution_count": 22,
     "metadata": {},
     "output_type": "execute_result"
    }
   ],
   "source": [
    "df.loc[df.last_name.str.contains('ena')]"
   ]
  },
  {
   "cell_type": "code",
   "execution_count": 23,
   "id": "e9695a23-d9bd-4094-88ed-e0eabfd96875",
   "metadata": {},
   "outputs": [
    {
     "data": {
      "text/html": [
       "<div>\n",
       "<style scoped>\n",
       "    .dataframe tbody tr th:only-of-type {\n",
       "        vertical-align: middle;\n",
       "    }\n",
       "\n",
       "    .dataframe tbody tr th {\n",
       "        vertical-align: top;\n",
       "    }\n",
       "\n",
       "    .dataframe thead th {\n",
       "        text-align: right;\n",
       "    }\n",
       "</style>\n",
       "<table border=\"1\" class=\"dataframe\">\n",
       "  <thead>\n",
       "    <tr style=\"text-align: right;\">\n",
       "      <th></th>\n",
       "      <th>name</th>\n",
       "      <th>last_name</th>\n",
       "      <th>email</th>\n",
       "      <th>age</th>\n",
       "      <th>salary</th>\n",
       "      <th>sex</th>\n",
       "      <th>department</th>\n",
       "      <th>pos</th>\n",
       "    </tr>\n",
       "  </thead>\n",
       "  <tbody>\n",
       "    <tr>\n",
       "      <th>2</th>\n",
       "      <td>Trecy</td>\n",
       "      <td>Lena</td>\n",
       "      <td>TrecyLena@op.ff</td>\n",
       "      <td>27</td>\n",
       "      <td>7000</td>\n",
       "      <td>Female</td>\n",
       "      <td>HR</td>\n",
       "      <td>HR Secretary</td>\n",
       "    </tr>\n",
       "    <tr>\n",
       "      <th>3</th>\n",
       "      <td>Milena</td>\n",
       "      <td>Lena</td>\n",
       "      <td>MilenaLena@gg.com</td>\n",
       "      <td>25</td>\n",
       "      <td>6000</td>\n",
       "      <td>Female</td>\n",
       "      <td>HR</td>\n",
       "      <td>HR Accounting</td>\n",
       "    </tr>\n",
       "  </tbody>\n",
       "</table>\n",
       "</div>"
      ],
      "text/plain": [
       "     name last_name              email  age  salary     sex department  \\\n",
       "2   Trecy      Lena    TrecyLena@op.ff   27    7000  Female         HR   \n",
       "3  Milena      Lena  MilenaLena@gg.com   25    6000  Female         HR   \n",
       "\n",
       "             pos  \n",
       "2   HR Secretary  \n",
       "3  HR Accounting  "
      ]
     },
     "execution_count": 23,
     "metadata": {},
     "output_type": "execute_result"
    }
   ],
   "source": [
    "df.loc[(df.age < 36) & (df.sex == 'Female')]"
   ]
  },
  {
   "cell_type": "code",
   "execution_count": 25,
   "id": "204d84d7-dd24-4dde-a7f5-e06ecca7c585",
   "metadata": {},
   "outputs": [
    {
     "data": {
      "text/plain": [
       "10416.67"
      ]
     },
     "execution_count": 25,
     "metadata": {},
     "output_type": "execute_result"
    }
   ],
   "source": [
    "df.salary.mean().round(decimals=2)"
   ]
  },
  {
   "cell_type": "code",
   "execution_count": null,
   "id": "62d0473e-e0db-45d0-9bda-5ea4e372732d",
   "metadata": {},
   "outputs": [],
   "source": []
  }
 ],
 "metadata": {
  "kernelspec": {
   "display_name": "Python 3",
   "language": "python",
   "name": "python3"
  },
  "language_info": {
   "codemirror_mode": {
    "name": "ipython",
    "version": 3
   },
   "file_extension": ".py",
   "mimetype": "text/x-python",
   "name": "python",
   "nbconvert_exporter": "python",
   "pygments_lexer": "ipython3",
   "version": "3.7.9"
  }
 },
 "nbformat": 4,
 "nbformat_minor": 5
}
