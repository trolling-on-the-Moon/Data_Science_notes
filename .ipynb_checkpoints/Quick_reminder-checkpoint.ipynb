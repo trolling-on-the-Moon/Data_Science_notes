{
 "cells": [
  {
   "cell_type": "markdown",
   "id": "24d058e0-f359-4608-9057-8b64b6cc6cd9",
   "metadata": {},
   "source": [
    "## Quick Reminder:"
   ]
  },
  {
   "cell_type": "code",
   "execution_count": 2,
   "id": "851430ff-6c8d-44f9-9775-594277ef5505",
   "metadata": {},
   "outputs": [
    {
     "data": {
      "text/html": [
       "<div>\n",
       "<style scoped>\n",
       "    .dataframe tbody tr th:only-of-type {\n",
       "        vertical-align: middle;\n",
       "    }\n",
       "\n",
       "    .dataframe tbody tr th {\n",
       "        vertical-align: top;\n",
       "    }\n",
       "\n",
       "    .dataframe thead th {\n",
       "        text-align: right;\n",
       "    }\n",
       "</style>\n",
       "<table border=\"1\" class=\"dataframe\">\n",
       "  <thead>\n",
       "    <tr style=\"text-align: right;\">\n",
       "      <th></th>\n",
       "      <th>first_name</th>\n",
       "      <th>last_name</th>\n",
       "      <th>age</th>\n",
       "      <th>occ</th>\n",
       "      <th>prog_lang</th>\n",
       "      <th>salary</th>\n",
       "    </tr>\n",
       "    <tr>\n",
       "      <th>email</th>\n",
       "      <th></th>\n",
       "      <th></th>\n",
       "      <th></th>\n",
       "      <th></th>\n",
       "      <th></th>\n",
       "      <th></th>\n",
       "    </tr>\n",
       "  </thead>\n",
       "  <tbody>\n",
       "    <tr>\n",
       "      <th>doejoh@gg.gf</th>\n",
       "      <td>John</td>\n",
       "      <td>Doe</td>\n",
       "      <td>32</td>\n",
       "      <td>Dev</td>\n",
       "      <td>Python</td>\n",
       "      <td>9000</td>\n",
       "    </tr>\n",
       "    <tr>\n",
       "      <th>valmar@aa.cc</th>\n",
       "      <td>Markus</td>\n",
       "      <td>Vasaletti</td>\n",
       "      <td>28</td>\n",
       "      <td>DB Admin</td>\n",
       "      <td>SQL</td>\n",
       "      <td>8000</td>\n",
       "    </tr>\n",
       "    <tr>\n",
       "      <th>thps2@gg.com</th>\n",
       "      <td>Tony</td>\n",
       "      <td>Hawk</td>\n",
       "      <td>49</td>\n",
       "      <td>Dev</td>\n",
       "      <td>Python</td>\n",
       "      <td>11000</td>\n",
       "    </tr>\n",
       "    <tr>\n",
       "      <th>hawkers@aa.bb</th>\n",
       "      <td>Howker</td>\n",
       "      <td>Mowner</td>\n",
       "      <td>39</td>\n",
       "      <td>Engineer</td>\n",
       "      <td>Java; Python</td>\n",
       "      <td>13000</td>\n",
       "    </tr>\n",
       "    <tr>\n",
       "      <th>ken@kk.og</th>\n",
       "      <td>Luke</td>\n",
       "      <td>McKen</td>\n",
       "      <td>17</td>\n",
       "      <td>Tester</td>\n",
       "      <td>C++</td>\n",
       "      <td>5000</td>\n",
       "    </tr>\n",
       "  </tbody>\n",
       "</table>\n",
       "</div>"
      ],
      "text/plain": [
       "              first_name  last_name  age       occ     prog_lang  salary\n",
       "email                                                                   \n",
       "doejoh@gg.gf        John        Doe   32       Dev        Python    9000\n",
       "valmar@aa.cc      Markus  Vasaletti   28  DB Admin           SQL    8000\n",
       "thps2@gg.com        Tony       Hawk   49       Dev        Python   11000\n",
       "hawkers@aa.bb     Howker     Mowner   39  Engineer  Java; Python   13000\n",
       "ken@kk.og           Luke      McKen   17    Tester           C++    5000"
      ]
     },
     "execution_count": 2,
     "metadata": {},
     "output_type": "execute_result"
    }
   ],
   "source": [
    "import pandas as pd\n",
    "\n",
    "data = {\n",
    "    'first_name': ['John', 'Markus', 'Tony', 'Howker', 'Luke'],\n",
    "    'last_name': ['Doe', 'Vasaletti', 'Hawk', 'Mowner', 'McKen'],\n",
    "    'age': [32, 28, 49, 39, 17],\n",
    "    'email': ['doejoh@gg.gf', 'valmar@aa.cc', 'thps2@gg.com', 'hawkers@aa.bb', 'ken@kk.og'],\n",
    "    'occ': ['Dev', 'DB Admin', 'Dev', 'Engineer', 'Tester'],\n",
    "    'prog_lang': ['Python', 'SQL', 'Python', 'Java; Python', 'C++'],\n",
    "    'salary': [9000, 8000, 11000, 13000, 5000]\n",
    "}\n",
    "\n",
    "df = pd.DataFrame(data)\n",
    "df.set_index('email', inplace=True)\n",
    "df"
   ]
  },
  {
   "cell_type": "code",
   "execution_count": 5,
   "id": "45d57a36-7d4a-474f-989f-474dd30199fb",
   "metadata": {},
   "outputs": [],
   "source": [
    "df.rename(columns={'first_name':'name', 'last_name': 'last'}, inplace=True)"
   ]
  },
  {
   "cell_type": "code",
   "execution_count": 20,
   "id": "b29b7903-e044-4244-a678-9fa8a1ed7c5a",
   "metadata": {},
   "outputs": [
    {
     "data": {
      "text/plain": [
       "Python          2\n",
       "C++             1\n",
       "SQL             1\n",
       "Java; Python    1\n",
       "Name: prog_lang, dtype: int64"
      ]
     },
     "execution_count": 20,
     "metadata": {},
     "output_type": "execute_result"
    }
   ],
   "source": [
    "df['prog_lang'].value_counts()"
   ]
  },
  {
   "cell_type": "code",
   "execution_count": 55,
   "id": "95547891-c8ce-4173-ba68-e90bd270ece8",
   "metadata": {},
   "outputs": [
    {
     "data": {
      "text/html": [
       "<div>\n",
       "<style scoped>\n",
       "    .dataframe tbody tr th:only-of-type {\n",
       "        vertical-align: middle;\n",
       "    }\n",
       "\n",
       "    .dataframe tbody tr th {\n",
       "        vertical-align: top;\n",
       "    }\n",
       "\n",
       "    .dataframe thead th {\n",
       "        text-align: right;\n",
       "    }\n",
       "</style>\n",
       "<table border=\"1\" class=\"dataframe\">\n",
       "  <thead>\n",
       "    <tr style=\"text-align: right;\">\n",
       "      <th></th>\n",
       "      <th>name</th>\n",
       "      <th>salary</th>\n",
       "      <th>age</th>\n",
       "    </tr>\n",
       "    <tr>\n",
       "      <th>email</th>\n",
       "      <th></th>\n",
       "      <th></th>\n",
       "      <th></th>\n",
       "    </tr>\n",
       "  </thead>\n",
       "  <tbody>\n",
       "    <tr>\n",
       "      <th>hawkers@aa.bb</th>\n",
       "      <td>Howker</td>\n",
       "      <td>13000</td>\n",
       "      <td>39</td>\n",
       "    </tr>\n",
       "    <tr>\n",
       "      <th>thps2@gg.com</th>\n",
       "      <td>Tony</td>\n",
       "      <td>11000</td>\n",
       "      <td>49</td>\n",
       "    </tr>\n",
       "    <tr>\n",
       "      <th>doejoh@gg.gf</th>\n",
       "      <td>John</td>\n",
       "      <td>9000</td>\n",
       "      <td>32</td>\n",
       "    </tr>\n",
       "    <tr>\n",
       "      <th>valmar@aa.cc</th>\n",
       "      <td>Markus</td>\n",
       "      <td>8000</td>\n",
       "      <td>28</td>\n",
       "    </tr>\n",
       "    <tr>\n",
       "      <th>ken@kk.og</th>\n",
       "      <td>Luke</td>\n",
       "      <td>5000</td>\n",
       "      <td>17</td>\n",
       "    </tr>\n",
       "  </tbody>\n",
       "</table>\n",
       "</div>"
      ],
      "text/plain": [
       "                 name  salary  age\n",
       "email                             \n",
       "hawkers@aa.bb  Howker   13000   39\n",
       "thps2@gg.com     Tony   11000   49\n",
       "doejoh@gg.gf     John    9000   32\n",
       "valmar@aa.cc   Markus    8000   28\n",
       "ken@kk.og        Luke    5000   17"
      ]
     },
     "execution_count": 55,
     "metadata": {},
     "output_type": "execute_result"
    }
   ],
   "source": [
    "df[['name', 'salary', 'age']].sort_values(by='salary', ascending=False)"
   ]
  },
  {
   "cell_type": "code",
   "execution_count": 56,
   "id": "85be9be9-31e2-4daf-aa1a-2e64ee0ed62c",
   "metadata": {},
   "outputs": [
    {
     "data": {
      "text/html": [
       "<div>\n",
       "<style scoped>\n",
       "    .dataframe tbody tr th:only-of-type {\n",
       "        vertical-align: middle;\n",
       "    }\n",
       "\n",
       "    .dataframe tbody tr th {\n",
       "        vertical-align: top;\n",
       "    }\n",
       "\n",
       "    .dataframe thead th {\n",
       "        text-align: right;\n",
       "    }\n",
       "</style>\n",
       "<table border=\"1\" class=\"dataframe\">\n",
       "  <thead>\n",
       "    <tr style=\"text-align: right;\">\n",
       "      <th></th>\n",
       "      <th>name</th>\n",
       "      <th>last</th>\n",
       "      <th>age</th>\n",
       "      <th>occ</th>\n",
       "      <th>prog_lang</th>\n",
       "      <th>salary</th>\n",
       "    </tr>\n",
       "    <tr>\n",
       "      <th>email</th>\n",
       "      <th></th>\n",
       "      <th></th>\n",
       "      <th></th>\n",
       "      <th></th>\n",
       "      <th></th>\n",
       "      <th></th>\n",
       "    </tr>\n",
       "  </thead>\n",
       "  <tbody>\n",
       "    <tr>\n",
       "      <th>doejoh@gg.gf</th>\n",
       "      <td>John</td>\n",
       "      <td>Doe</td>\n",
       "      <td>32</td>\n",
       "      <td>Dev</td>\n",
       "      <td>Python</td>\n",
       "      <td>9000</td>\n",
       "    </tr>\n",
       "    <tr>\n",
       "      <th>valmar@aa.cc</th>\n",
       "      <td>Markus</td>\n",
       "      <td>Vasaletti</td>\n",
       "      <td>28</td>\n",
       "      <td>DB Admin</td>\n",
       "      <td>SQL</td>\n",
       "      <td>8000</td>\n",
       "    </tr>\n",
       "    <tr>\n",
       "      <th>thps2@gg.com</th>\n",
       "      <td>Tony</td>\n",
       "      <td>Hawk</td>\n",
       "      <td>49</td>\n",
       "      <td>Dev</td>\n",
       "      <td>Python</td>\n",
       "      <td>11000</td>\n",
       "    </tr>\n",
       "    <tr>\n",
       "      <th>hawkers@aa.bb</th>\n",
       "      <td>Howker</td>\n",
       "      <td>Mowner</td>\n",
       "      <td>39</td>\n",
       "      <td>Engineer</td>\n",
       "      <td>Java; Python</td>\n",
       "      <td>13000</td>\n",
       "    </tr>\n",
       "    <tr>\n",
       "      <th>ken@kk.og</th>\n",
       "      <td>Luke</td>\n",
       "      <td>Doe</td>\n",
       "      <td>17</td>\n",
       "      <td>Tester</td>\n",
       "      <td>C++</td>\n",
       "      <td>5000</td>\n",
       "    </tr>\n",
       "  </tbody>\n",
       "</table>\n",
       "</div>"
      ],
      "text/plain": [
       "                 name       last  age       occ     prog_lang  salary\n",
       "email                                                                \n",
       "doejoh@gg.gf     John        Doe   32       Dev        Python    9000\n",
       "valmar@aa.cc   Markus  Vasaletti   28  DB Admin           SQL    8000\n",
       "thps2@gg.com     Tony       Hawk   49       Dev        Python   11000\n",
       "hawkers@aa.bb  Howker     Mowner   39  Engineer  Java; Python   13000\n",
       "ken@kk.og        Luke        Doe   17    Tester           C++    5000"
      ]
     },
     "execution_count": 56,
     "metadata": {},
     "output_type": "execute_result"
    }
   ],
   "source": [
    "df"
   ]
  },
  {
   "cell_type": "code",
   "execution_count": 57,
   "id": "286d1225-9260-46f7-8d3f-3804df463b20",
   "metadata": {},
   "outputs": [],
   "source": [
    "df['country'] = ['USA', 'Mongolia', 'USA', 'Poland', 'Canada']"
   ]
  },
  {
   "cell_type": "code",
   "execution_count": 74,
   "id": "9d6cb283-4593-457c-910b-5b14352c3150",
   "metadata": {},
   "outputs": [
    {
     "data": {
      "text/plain": [
       "USA    1.0\n",
       "Name: country, dtype: float64"
      ]
     },
     "execution_count": 74,
     "metadata": {},
     "output_type": "execute_result"
    }
   ],
   "source": [
    "#flt = df['prog_lang'].str.contains('Python')\n",
    "df.groupby('prog_lang').get_group('Python')['country'].value_counts(normalize=True)"
   ]
  },
  {
   "cell_type": "code",
   "execution_count": 87,
   "id": "84a781ac-21b8-4fda-84ba-39b4382e1aaa",
   "metadata": {},
   "outputs": [
    {
     "data": {
      "text/plain": [
       "USA         2\n",
       "Canada      1\n",
       "Mongolia    1\n",
       "Poland      1\n",
       "Name: country, dtype: int64"
      ]
     },
     "execution_count": 87,
     "metadata": {},
     "output_type": "execute_result"
    }
   ],
   "source": [
    "df['country'].value_counts()"
   ]
  },
  {
   "cell_type": "code",
   "execution_count": null,
   "id": "99f22b92-6bfb-43eb-a8fc-7435fa1524ed",
   "metadata": {},
   "outputs": [],
   "source": []
  }
 ],
 "metadata": {
  "kernelspec": {
   "display_name": "Python 3",
   "language": "python",
   "name": "python3"
  },
  "language_info": {
   "codemirror_mode": {
    "name": "ipython",
    "version": 3
   },
   "file_extension": ".py",
   "mimetype": "text/x-python",
   "name": "python",
   "nbconvert_exporter": "python",
   "pygments_lexer": "ipython3",
   "version": "3.7.9"
  }
 },
 "nbformat": 4,
 "nbformat_minor": 5
}
